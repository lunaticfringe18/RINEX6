{
  "nbformat": 4,
  "nbformat_minor": 0,
  "metadata": {
    "colab": {
      "provenance": [],
      "authorship_tag": "ABX9TyNgHpNAfFbsFFKn/1Zq1h0Z",
      "include_colab_link": true
    },
    "kernelspec": {
      "name": "python3",
      "display_name": "Python 3"
    },
    "language_info": {
      "name": "python"
    }
  },
  "cells": [
    {
      "cell_type": "markdown",
      "metadata": {
        "id": "view-in-github",
        "colab_type": "text"
      },
      "source": [
        "<a href=\"https://colab.research.google.com/github/lunaticfringe18/RINEX6/blob/main/Major1.ipynb\" target=\"_parent\"><img src=\"https://colab.research.google.com/assets/colab-badge.svg\" alt=\"Open In Colab\"/></a>"
      ]
    },
    {
      "cell_type": "code",
      "execution_count": null,
      "metadata": {
        "colab": {
          "base_uri": "https://localhost:8080/",
          "height": 241
        },
        "id": "P_VUhlCIktjL",
        "outputId": "e62092f9-e76e-4007-c7ff-e19179092279"
      },
      "outputs": [
        {
          "output_type": "stream",
          "name": "stdout",
          "text": [
            "First 6 images of the dataset: \n"
          ]
        },
        {
          "output_type": "display_data",
          "data": {
            "text/plain": [
              "<Figure size 432x288 with 6 Axes>"
            ],
            "image/png": "[encoded data removed]"
          },
          "metadata": {
            "needs_background": "light"
          }
        },
        {
          "output_type": "stream",
          "name": "stdout",
          "text": [
            "Using:  SVC(gamma=0.001)\n",
            "Accuracy: 96.88542825361512 %\n"
          ]
        }
      ],
      "source": [
        "from __future__ import division  \n",
        "from sklearn.datasets import load_digits\n",
        "import matplotlib.pyplot as plt\n",
        "from sklearn import svm\n",
        "from sklearn import tree\n",
        "from sklearn.ensemble import RandomForestClassifier\n",
        "from sklearn.model_selection import train_test_split as tts\n",
        "from sklearn.model_selection import train_test_split\n",
        "from sklearn.metrics import accuracy_score\n",
        "# Loading digits dataset\n",
        "digits = load_digits()\n",
        "# Create feature matrix\n",
        "x = digits.data\n",
        "# Create target vector\n",
        "y = digits.target\n",
        "\n",
        "# First 6 images stored in the images attribute of the dataset\n",
        "print(\"First 6 images of the dataset: \")\n",
        "\n",
        "for x in range (6):\n",
        "\n",
        "    plt.subplot(330 + 1 + x)\n",
        "    plt.imshow(digits.images[x], cmap=plt.get_cmap('gray'))\n",
        "\n",
        "plt.show()\n",
        "# Flattening the image to apply classifier\n",
        "n_samples = len(digits.images)\n",
        "data = digits.images.reshape((n_samples, -1))\n",
        "\n",
        "# Splitting the data into training and testing\n",
        "x_train, x_test, y_train, y_test = train_test_split(data, digits.target, test_size=0.5, shuffle=False)\n",
        "\n",
        "# Creating a classifier. SVM is set as default but you can test out other two as well by commenting out SVM and un-commennting the one you wish to try\n",
        "clf = svm.SVC (gamma=0.001)\n",
        "\n",
        "# Decision Tree Classifier\n",
        "#clf = tree.DecisionTreeClassifier()\n",
        "\n",
        "# Random Forest Classifier\n",
        "#clf = RandomForestClassifier()\n",
        "\n",
        "# Printing the details of the Classifier used\n",
        "print (\"Using: \", clf)\n",
        "\n",
        "# Training\n",
        "clf.fit(x_train, y_train)\n",
        "# Predicting\n",
        "predictions = clf.predict(x_test)\n",
        "#print (\"\\nPredictions:\", predictions)\n",
        "\n",
        "score = 0\n",
        "for i in range(len(predictions)):\n",
        "\n",
        "    if predictions[i] == y_test[i]:\n",
        "\n",
        "        score += 1\n",
        "\n",
        "print (\"Accuracy:\", (score / len(predictions)) * 100, \"%\")\n",
        "# print accuracy_score(test_labels, predictions)"
      ]
    }
  ]
}
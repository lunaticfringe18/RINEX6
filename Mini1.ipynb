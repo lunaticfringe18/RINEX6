{
  "nbformat": 4,
  "nbformat_minor": 0,
  "metadata": {
    "colab": {
      "provenance": [],
      "authorship_tag": "ABX9TyMWZo26frJ/GV2L2OHNE9kk",
      "include_colab_link": true
    },
    "kernelspec": {
      "name": "python3",
      "display_name": "Python 3"
    },
    "language_info": {
      "name": "python"
    }
  },
  "cells": [
    {
      "cell_type": "markdown",
      "metadata": {
        "id": "view-in-github",
        "colab_type": "text"
      },
      "source": [
        "<a href=\"https://colab.research.google.com/github/lunaticfringe18/RINEX6/blob/main/Mini1.ipynb\" target=\"_parent\"><img src=\"https://colab.research.google.com/assets/colab-badge.svg\" alt=\"Open In Colab\"/></a>"
      ]
    },
    {
      "cell_type": "code",
      "execution_count": 1,
      "metadata": {
        "id": "CEhsCpGsUDEV"
      },
      "outputs": [],
      "source": [
        "import pandas as pd\n",
        "df=pd.read_csv('/holidays_events.csv')"
      ]
    },
    {
      "cell_type": "code",
      "source": [
        "df.info"
      ],
      "metadata": {
        "colab": {
          "base_uri": "https://localhost:8080/"
        },
        "id": "y41ZdlrqVT7L",
        "outputId": "84e07061-a013-48a8-f794-9a7b5a99334d"
      },
      "execution_count": 2,
      "outputs": [
        {
          "output_type": "execute_result",
          "data": {
            "text/plain": [
              "<bound method DataFrame.info of            date        type    locale locale_name  \\\n",
              "0    2012-03-02     Holiday     Local       Manta   \n",
              "1    2012-04-01     Holiday  Regional    Cotopaxi   \n",
              "2    2012-04-12     Holiday     Local      Cuenca   \n",
              "3    2012-04-14     Holiday     Local    Libertad   \n",
              "4    2012-04-21     Holiday     Local    Riobamba   \n",
              "..          ...         ...       ...         ...   \n",
              "345  2017-12-22  Additional  National     Ecuador   \n",
              "346  2017-12-23  Additional  National     Ecuador   \n",
              "347  2017-12-24  Additional  National     Ecuador   \n",
              "348  2017-12-25     Holiday  National     Ecuador   \n",
              "349  2017-12-26  Additional  National     Ecuador   \n",
              "\n",
              "                       description  transferred  \n",
              "0               Fundacion de Manta        False  \n",
              "1    Provincializacion de Cotopaxi        False  \n",
              "2              Fundacion de Cuenca        False  \n",
              "3        Cantonizacion de Libertad        False  \n",
              "4        Cantonizacion de Riobamba        False  \n",
              "..                             ...          ...  \n",
              "345                      Navidad-3        False  \n",
              "346                      Navidad-2        False  \n",
              "347                      Navidad-1        False  \n",
              "348                        Navidad        False  \n",
              "349                      Navidad+1        False  \n",
              "\n",
              "[350 rows x 6 columns]>"
            ]
          },
          "metadata": {},
          "execution_count": 2
        }
      ]
    },
    {
      "cell_type": "code",
      "source": [
        "df.size"
      ],
      "metadata": {
        "colab": {
          "base_uri": "https://localhost:8080/"
        },
        "id": "vX7gT4mMVWYE",
        "outputId": "f4ef393f-7976-44a7-c81d-74b2d4e039a8"
      },
      "execution_count": 3,
      "outputs": [
        {
          "output_type": "execute_result",
          "data": {
            "text/plain": [
              "2100"
            ]
          },
          "metadata": {},
          "execution_count": 3
        }
      ]
    },
    {
      "cell_type": "code",
      "source": [
        "df.shape\n"
      ],
      "metadata": {
        "colab": {
          "base_uri": "https://localhost:8080/"
        },
        "id": "7ciA7S1lVauY",
        "outputId": "59c0b103-0291-4bd4-93e8-0511e7686c6c"
      },
      "execution_count": 4,
      "outputs": [
        {
          "output_type": "execute_result",
          "data": {
            "text/plain": [
              "(350, 6)"
            ]
          },
          "metadata": {},
          "execution_count": 4
        }
      ]
    },
    {
      "cell_type": "code",
      "source": [
        "import seaborn as sns\n",
        "sns.countplot(x='type',data=df)"
      ],
      "metadata": {
        "colab": {
          "base_uri": "https://localhost:8080/",
          "height": 296
        },
        "id": "rxptrkXcVc8J",
        "outputId": "7ecd1fe2-be28-4f66-bc23-29b649ab32e5"
      },
      "execution_count": 8,
      "outputs": [
        {
          "output_type": "execute_result",
          "data": {
            "text/plain": [
              "<matplotlib.axes._subplots.AxesSubplot at 0x7fde19e36e10>"
            ]
          },
          "metadata": {},
          "execution_count": 8
        },
        {
          "output_type": "display_data",
          "data": {
            "text/plain": [
              "<Figure size 432x288 with 1 Axes>"
            ],
            "image/png": "[encoded data removed]"
          },
          "metadata": {
            "needs_background": "light"
          }
        }
      ]
    },
    {
      "cell_type": "code",
      "source": [
        "df.groupby('type').size()"
      ],
      "metadata": {
        "colab": {
          "base_uri": "https://localhost:8080/"
        },
        "id": "6F6qIR4wWKGo",
        "outputId": "132e8ab3-b08e-4ba3-e8e4-cb833293b3ab"
      },
      "execution_count": 9,
      "outputs": [
        {
          "output_type": "execute_result",
          "data": {
            "text/plain": [
              "type\n",
              "Additional     51\n",
              "Bridge          5\n",
              "Event          56\n",
              "Holiday       221\n",
              "Transfer       12\n",
              "Work Day        5\n",
              "dtype: int64"
            ]
          },
          "metadata": {},
          "execution_count": 9
        }
      ]
    },
    {
      "cell_type": "code",
      "source": [
        "sns.countplot(x='locale_name',data=df)"
      ],
      "metadata": {
        "colab": {
          "base_uri": "https://localhost:8080/",
          "height": 297
        },
        "id": "kJ-Si0BPWSu8",
        "outputId": "abf0f728-6421-41ac-8439-9e91cc1f53ee"
      },
      "execution_count": 10,
      "outputs": [
        {
          "output_type": "execute_result",
          "data": {
            "text/plain": [
              "<matplotlib.axes._subplots.AxesSubplot at 0x7fde19880750>"
            ]
          },
          "metadata": {},
          "execution_count": 10
        },
        {
          "output_type": "display_data",
          "data": {
            "text/plain": [
              "<Figure size 432x288 with 1 Axes>"
            ],
            "image/png": "[encoded data removed]"
          },
          "metadata": {
            "needs_background": "light"
          }
        }
      ]
    },
    {
      "cell_type": "code",
      "source": [
        "df.groupby('locale_name').size()"
      ],
      "metadata": {
        "colab": {
          "base_uri": "https://localhost:8080/"
        },
        "id": "JsGACI6HWn_G",
        "outputId": "f64075e9-9aca-4633-adb3-d38718fcb6c9"
      },
      "execution_count": 11,
      "outputs": [
        {
          "output_type": "execute_result",
          "data": {
            "text/plain": [
              "locale_name\n",
              "Ambato                             12\n",
              "Cayambe                             6\n",
              "Cotopaxi                            6\n",
              "Cuenca                              7\n",
              "Ecuador                           174\n",
              "El Carmen                           6\n",
              "Esmeraldas                          6\n",
              "Guaranda                           12\n",
              "Guayaquil                          11\n",
              "Ibarra                              7\n",
              "Imbabura                            6\n",
              "Latacunga                          12\n",
              "Libertad                            6\n",
              "Loja                                6\n",
              "Machala                             6\n",
              "Manta                               6\n",
              "Puyo                                6\n",
              "Quevedo                             6\n",
              "Quito                              13\n",
              "Riobamba                           12\n",
              "Salinas                             6\n",
              "Santa Elena                         6\n",
              "Santo Domingo                       6\n",
              "Santo Domingo de los Tsachilas      6\n",
              "dtype: int64"
            ]
          },
          "metadata": {},
          "execution_count": 11
        }
      ]
    },
    {
      "cell_type": "code",
      "source": [
        "df.groupby('locale').size()"
      ],
      "metadata": {
        "colab": {
          "base_uri": "https://localhost:8080/"
        },
        "id": "RCf3hfOcW7fY",
        "outputId": "9f7e4cc6-a1e1-48f5-a1a6-e7c5b3f59c4c"
      },
      "execution_count": 12,
      "outputs": [
        {
          "output_type": "execute_result",
          "data": {
            "text/plain": [
              "locale\n",
              "Local       152\n",
              "National    174\n",
              "Regional     24\n",
              "dtype: int64"
            ]
          },
          "metadata": {},
          "execution_count": 12
        }
      ]
    },
    {
      "cell_type": "code",
      "source": [
        "df['locale'].value_counts().plot(kind='bar')"
      ],
      "metadata": {
        "colab": {
          "base_uri": "https://localhost:8080/",
          "height": 315
        },
        "id": "d9dNu8lCXDAH",
        "outputId": "82e48e78-b0fd-43d7-cffa-e0c99ef5520f"
      },
      "execution_count": 15,
      "outputs": [
        {
          "output_type": "execute_result",
          "data": {
            "text/plain": [
              "<matplotlib.axes._subplots.AxesSubplot at 0x7fde17984790>"
            ]
          },
          "metadata": {},
          "execution_count": 15
        },
        {
          "output_type": "display_data",
          "data": {
            "text/plain": [
              "<Figure size 432x288 with 1 Axes>"
            ],
            "image/png": "[encoded data removed]"
          },
          "metadata": {
            "needs_background": "light"
          }
        }
      ]
    },
    {
      "cell_type": "code",
      "source": [],
      "metadata": {
        "id": "8dOH9XyIWsjj"
      },
      "execution_count": null,
      "outputs": []
    }
  ]
}